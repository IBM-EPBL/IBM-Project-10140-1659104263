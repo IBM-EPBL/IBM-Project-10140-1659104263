{
  "nbformat": 4,
  "nbformat_minor": 0,
  "metadata": {
    "colab": {
      "provenance": []
    },
    "kernelspec": {
      "name": "python3",
      "display_name": "Python 3"
    },
    "language_info": {
      "name": "python"
    }
  },
  "cells": [
    {
      "cell_type": "code",
      "execution_count": 3,
      "metadata": {
        "colab": {
          "base_uri": "https://localhost:8080/"
        },
        "id": "F_dQxjy2E2Py",
        "outputId": "501ca11b-a396-4112-f80e-6f31b59a7119"
      },
      "outputs": [
        {
          "output_type": "stream",
          "name": "stdout",
          "text": [
            "2401\n"
          ]
        }
      ],
      "source": [
        "print(7**4)"
      ]
    },
    {
      "cell_type": "code",
      "source": [
        "str= \"Hi there Sam!\"\n",
        "str= str.split()"
      ],
      "metadata": {
        "id": "gS6I1L-7Gwp_"
      },
      "execution_count": 6,
      "outputs": []
    },
    {
      "cell_type": "code",
      "source": [
        "print(str)"
      ],
      "metadata": {
        "colab": {
          "base_uri": "https://localhost:8080/"
        },
        "id": "GsbfaA70HF-U",
        "outputId": "862da052-8687-42d2-9d4c-4d5199388b6a"
      },
      "execution_count": 8,
      "outputs": [
        {
          "output_type": "stream",
          "name": "stdout",
          "text": [
            "['Hi', 'there', 'Sam!']\n"
          ]
        }
      ]
    },
    {
      "cell_type": "code",
      "source": [
        "planet = \"Earth\"\n",
        "diameter = 12742\n",
        "print(\"The diameter of {0} is {1} kilometers.\".format(planet,diameter))"
      ],
      "metadata": {
        "colab": {
          "base_uri": "https://localhost:8080/"
        },
        "id": "Tu71lOh_HNkU",
        "outputId": "7465655b-9222-46a9-c007-0cc577963231"
      },
      "execution_count": 9,
      "outputs": [
        {
          "output_type": "stream",
          "name": "stdout",
          "text": [
            "The diameter of Earth is 12742 kilometers.\n"
          ]
        }
      ]
    },
    {
      "cell_type": "code",
      "source": [
        "lst = [1,2,[3,4],[5,[100,200,['hello']],23,11],1,7]"
      ],
      "metadata": {
        "id": "NcmL_-0pHTrc"
      },
      "execution_count": 11,
      "outputs": []
    },
    {
      "cell_type": "markdown",
      "source": [
        "lst = [1,2,[3,4],[5,[100,200,['hello']],23,11],1,7]\n",
        "print(lst[3][1][2][0])"
      ],
      "metadata": {
        "id": "ZaYpFcrHHYBW"
      }
    },
    {
      "cell_type": "code",
      "source": [
        "d = {'k1':[1,2,3,{'tricky':['oh','man','inception',{'target':[1,2,3,'hello']}]}]}"
      ],
      "metadata": {
        "id": "rzTdx0hbHbtV"
      },
      "execution_count": 14,
      "outputs": []
    },
    {
      "cell_type": "code",
      "source": [
        "d = {'k1':[1,2,3,{'tricky':['oh','man','incmeption',{'target':[1,2,3,'hello']}]}]}\n",
        "print(d['k1'][3]['tricky'][3]['target'][3])"
      ],
      "metadata": {
        "colab": {
          "base_uri": "https://localhost:8080/"
        },
        "id": "aOiIZ_jLHgkD",
        "outputId": "cd338466-8cea-4396-8070-9fbf32c975ec"
      },
      "execution_count": 15,
      "outputs": [
        {
          "output_type": "stream",
          "name": "stdout",
          "text": [
            "hello\n"
          ]
        }
      ]
    },
    {
      "cell_type": "code",
      "source": [
        "def getWebsite(s):\n",
        "  return s.split(\"@\")[1]\n",
        "s = \"user@domain.com\"\n",
        "print(getWebsite(s))"
      ],
      "metadata": {
        "colab": {
          "base_uri": "https://localhost:8080/"
        },
        "id": "yAGhgyBdHjTw",
        "outputId": "2e1578e8-708e-43d4-e540-edeafd1f7caa"
      },
      "execution_count": 16,
      "outputs": [
        {
          "output_type": "stream",
          "name": "stdout",
          "text": [
            "domain.com\n"
          ]
        }
      ]
    },
    {
      "cell_type": "code",
      "source": [
        "def checkWord(s):\n",
        "  return \"dog\" in s.lower()\n",
        "print(checkWord(\"I bought a Dog.\"))"
      ],
      "metadata": {
        "colab": {
          "base_uri": "https://localhost:8080/"
        },
        "id": "x5qu0tFNHnuQ",
        "outputId": "de7b9661-1731-406d-874b-abc56192a97e"
      },
      "execution_count": 17,
      "outputs": [
        {
          "output_type": "stream",
          "name": "stdout",
          "text": [
            "True\n"
          ]
        }
      ]
    },
    {
      "cell_type": "code",
      "source": [
        "def countWord(s):\n",
        "  return s.lower().count(\"dog\")\n",
        "print(countWord(\"I bought a Dog. The dog was cute and active.\"))"
      ],
      "metadata": {
        "colab": {
          "base_uri": "https://localhost:8080/"
        },
        "id": "ZKQn23JeHqZR",
        "outputId": "f88b7e9b-08c7-4a59-adba-9fdedfd2fd0d"
      },
      "execution_count": 18,
      "outputs": [
        {
          "output_type": "stream",
          "name": "stdout",
          "text": [
            "2\n"
          ]
        }
      ]
    },
    {
      "cell_type": "code",
      "source": [
        "def caught_speeding(speed, is_birthday):\n",
        "    \n",
        "    if is_birthday:\n",
        "        speeding = speed - 5\n",
        "    else:\n",
        "        speeding = speed\n",
        "    \n",
        "    if speeding > 80:\n",
        "        return 'Big Ticket'\n",
        "    elif speeding > 60:\n",
        "        return 'Small Ticket'\n",
        "    else:\n",
        "        return 'No Ticket'\n",
        "print(caught_speeding(90,True))\n",
        "print(caught_speeding(65,False))"
      ],
      "metadata": {
        "colab": {
          "base_uri": "https://localhost:8080/"
        },
        "id": "g3JS48lnHsmi",
        "outputId": "98cd6727-af01-453d-f925-f40f3c1bd2a8"
      },
      "execution_count": 19,
      "outputs": [
        {
          "output_type": "stream",
          "name": "stdout",
          "text": [
            "Big Ticket\n",
            "Small Ticket\n"
          ]
        }
      ]
    },
    {
      "cell_type": "code",
      "source": [
        "n = int(input(\"Enter the number of Employees: \"))\n",
        "l = []\n",
        "for i in range(n):\n",
        "  basic = int(input(\"Enter basic pay for employee {0}: \".format(i+1)))\n",
        "  da = float(basic*0.25)\n",
        "  hra = float(basic*0.15)\n",
        "  pf = float((basic+da)*0.12)\n",
        "  ta = float(basic*0.075)\n",
        "  netpay = float(basic+da+hra+ta)\n",
        "  grosspay = float(netpay-pf)\n",
        "  l.append([basic,da,hra,pf,ta,netpay,grosspay])\n",
        "for i in range(n):\n",
        "  print(l[i][-1])"
      ],
      "metadata": {
        "colab": {
          "base_uri": "https://localhost:8080/"
        },
        "id": "Ap8orHeUHu7C",
        "outputId": "68d85f81-53a8-4caa-e9f7-24d6123433cd"
      },
      "execution_count": 20,
      "outputs": [
        {
          "output_type": "stream",
          "name": "stdout",
          "text": [
            "Enter the number of Employees: 3\n",
            "Enter basic pay for employee 1: 1000\n",
            "Enter basic pay for employee 2: 10000\n",
            "Enter basic pay for employee 3: 100000\n",
            "1325.0\n",
            "13250.0\n",
            "132500.0\n"
          ]
        }
      ]
    },
    {
      "cell_type": "code",
      "source": [
        "d1 = {'Empid':1,'Empname':'ABC','Basicpay':45000}\n",
        "d2 = {'DeptName':'Information Technology','Deptid':2}\n",
        "print(d1)\n",
        "print(d2)\n",
        "d1.update(d2)\n",
        "print(d1)"
      ],
      "metadata": {
        "colab": {
          "base_uri": "https://localhost:8080/"
        },
        "id": "CCkztQZUHx-C",
        "outputId": "c8a9e496-8042-4800-c7a5-a142c5fe64d4"
      },
      "execution_count": 21,
      "outputs": [
        {
          "output_type": "stream",
          "name": "stdout",
          "text": [
            "{'Empid': 1, 'Empname': 'ABC', 'Basicpay': 45000}\n",
            "{'DeptName': 'Information Technology', 'Deptid': 2}\n",
            "{'Empid': 1, 'Empname': 'ABC', 'Basicpay': 45000, 'DeptName': 'Information Technology', 'Deptid': 2}\n"
          ]
        }
      ]
    }
  ]
}